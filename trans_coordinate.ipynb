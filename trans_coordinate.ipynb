{
 "cells": [
  {
   "cell_type": "code",
   "execution_count": 1,
   "metadata": {},
   "outputs": [],
   "source": [
    "import numpy as np\n",
    "import math"
   ]
  },
  {
   "cell_type": "code",
   "execution_count": 2,
   "metadata": {},
   "outputs": [],
   "source": [
    "def transform(num, l):   #변경 전의 좌표값은 리스트의 형태로 입력받는다.\n",
    "    \n",
    "    e = 0.0810820288      #(a^2-b^2)/a^2 의 계산값\n",
    "    \n",
    "    x = l[0]\n",
    "    y = l[1]         #입력받은 x, y, z좌표(혹은 enu)를 각각 x, y, z로 명명\n",
    "    z = l[2]\n",
    "    \n",
    "    if num!= 2 :\n",
    "        \n",
    "        lat = l[3]\n",
    "        long = l[4]      #입력받은 경위도 및 높이를 각각 lat, long, h로 명명\n",
    "        h = l[5]\n",
    "        \n",
    "        pi = math.radians(lat)       #degree 단위를 radian로 변경\n",
    "        lamb = math.radians(long)\n",
    "        \n",
    "        k = 1-(e**2)*(math.sin(pi)**2)\n",
    "        pt = 6378000/(math.sqrt(k))  #지구 적도 반지름 6,378km, 극 반지름 6,357km\n",
    "        pm = pt*(1-e**2)\n",
    "        \n",
    "        xr = (pt + h)*math.cos(pi)*math.cos(lamb)\n",
    "        yr = (pt + h)*math.cos(pi)*math.sin(lamb)\n",
    "        zr = (pm + h)*math.sin(pi)\n",
    "        RMatrix = np.matrix([[-math.sin(lamb), math.cos(lamb), 0], [-math.sin(pi)*math.cos(lamb), -math.sin(pi)*math.sin(lamb), math.cos(pi)], [math.cos(pi)*math.cos(lamb), math.cos(pi)*math.sin(lamb), math.sin(pi)]])\n",
    "        #RMatrix = 회전행렬\n",
    "        \n",
    "        if num == 1 :\n",
    "            return xr, yr, zr\n",
    "        elif num == 3 :\n",
    "            Matrix = np.array([[x-xr], [y-yr], [z-zr]])\n",
    "            enu = np.matmul(RMatrix, Matrix)\n",
    "            return enu.flatten()\n",
    "        elif num == 4 :\n",
    "            RMatrix = np.transpose(Rmatrix)       #회전행렬 뒤집기\n",
    "            Matrix = np.array([[x], [y], [z]])     #실제로는 enu좌표\n",
    "            xyz_ = np.matmul(RMatrix, Matrix)     #두 행렬 곱\n",
    "            xyz_ = xyz_.flatten()\n",
    "            \n",
    "            xyz[0] += xr\n",
    "            xyz[1] += yr   \n",
    "            xyz[2] += zr\n",
    "            return xyz_\n",
    "        \n",
    "    else :\n",
    "        return trans_2(x, y, z)"
   ]
  },
  {
   "cell_type": "code",
   "execution_count": 3,
   "metadata": {},
   "outputs": [],
   "source": [
    "def trans_2(x1, y1, z1) :\n",
    "    e = 0.0810820288 \n",
    "    long = math.atan2(y1, x1)\n",
    "    p = math.sqrt(x1**2 + y1**2)\n",
    "    p0 = math.atan((z1/p)*(1-e**2)**(-1))\n",
    "    a = 6378\n",
    "    b = 6357\n",
    "    \n",
    "    while(True) :\n",
    "        N0 = a**2/(math.sqrt(a**2*math.cos(p0)**2 + b**2*math.sin(p0)**2))\n",
    "        h = (p/math.cos(p0)) - N0\n",
    "        lat = math.atan((z1/p)*(1-e**2*(N0/(N0+h))))\n",
    "        if (abs(p0-lat) <= 1) :           #초기값과 구한 값의 차이가 충분히 작을 때 : 기준은 1로 지정\n",
    "            break\n",
    "        else :\n",
    "            p0 = lat\n",
    "            continue\n",
    "    \n",
    "    llh = [math.degrees(lat), math.degrees(long), h]\n",
    "    \n",
    "    return llh"
   ]
  },
  {
   "cell_type": "code",
   "execution_count": 4,
   "metadata": {},
   "outputs": [],
   "source": [
    "def menu_() :\n",
    "    print(\"=============================\")\n",
    "    print(\"0 : Quit\")\n",
    "    print(\"1 : Ellipsoidal → ECEF\")\n",
    "    print(\"2 : ECEF → Ellipsoidal\")\n",
    "    print(\"3 : ECEF → ENU\")\n",
    "    print(\"4 : ENU → ECEF\")\n",
    "    print(\"=============================\")"
   ]
  },
  {
   "cell_type": "code",
   "execution_count": null,
   "metadata": {},
   "outputs": [
    {
     "name": "stdout",
     "output_type": "stream",
     "text": [
      "=============================\n",
      "0 : Quit\n",
      "1 : Ellipsoidal → ECEF\n",
      "2 : ECEF → Ellipsoidal\n",
      "3 : ECEF → ENU\n",
      "4 : ENU → ECEF\n",
      "=============================\n",
      "입력 : 2\n",
      "x(e)-2704900\n",
      "y(n)3693100\n",
      "z(u)3572700\n",
      "[37.9702329067648, 126.21979014515978, 5815053.465595266]\n",
      "=============================\n",
      "0 : Quit\n",
      "1 : Ellipsoidal → ECEF\n",
      "2 : ECEF → Ellipsoidal\n",
      "3 : ECEF → ENU\n",
      "4 : ENU → ECEF\n",
      "=============================\n"
     ]
    }
   ],
   "source": [
    "while(1) :\n",
    "    lst = [0 for i in range(6)]\n",
    "    coordinate = ['x(e)', 'y(n)', 'z(u)', 'latitude', 'longitude', 'height']\n",
    "    menu_()\n",
    "    n = int(input(\"입력 : \"))\n",
    "    \n",
    "    if n == 1 :\n",
    "        for i in range(3, 6) :\n",
    "            lst[i] = float(input(coordinate[i]))\n",
    "    elif n == 2 :\n",
    "        for i in range(3) :\n",
    "            lst[i] = float(input(coordinate[i]))\n",
    "    elif n == 3 or n == 4 :\n",
    "        for i in range(6) :\n",
    "            lst[i] == float(input(coordinate[i]))\n",
    "    else :\n",
    "        break\n",
    "        \n",
    "    print(transform(n, lst))"
   ]
  }
 ],
 "metadata": {
  "kernelspec": {
   "display_name": "[dig]",
   "language": "python",
   "name": "dig"
  },
  "language_info": {
   "codemirror_mode": {
    "name": "ipython",
    "version": 3
   },
   "file_extension": ".py",
   "mimetype": "text/x-python",
   "name": "python",
   "nbconvert_exporter": "python",
   "pygments_lexer": "ipython3",
   "version": "3.9.7"
  }
 },
 "nbformat": 4,
 "nbformat_minor": 4
}
