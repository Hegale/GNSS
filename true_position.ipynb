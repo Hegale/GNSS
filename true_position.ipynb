{
 "cells": [
  {
   "cell_type": "code",
   "execution_count": 24,
   "id": "1b4fb853",
   "metadata": {},
   "outputs": [],
   "source": [
    "import os\n",
    "import re\n",
    "import math\n",
    "import pandas as pd\n",
    "import numpy as np"
   ]
  },
  {
   "cell_type": "code",
   "execution_count": 25,
   "id": "e89d75ac",
   "metadata": {},
   "outputs": [],
   "source": [
    "def ecef2enu(x, y, z, lat, long, h, xr, yr, zr) :\n",
    "    e = 0.0810820288\n",
    "    pi = math.radians(lat)       #degree 단위를 radian로 변경\n",
    "    lamb = math.radians(long)\n",
    "        \n",
    "    k = 1-(e**2)*(math.sin(pi)**2)\n",
    "    pt = 6378000/(math.sqrt(k))  #지구 적도 반지름 6,378km, 극 반지름 6,357km\n",
    "    pm = pt*(1-e**2)\n",
    "    \n",
    "    RMatrix = np.matrix([[-math.sin(lamb), math.cos(lamb), 0],\n",
    "                         [-math.sin(pi)*math.cos(lamb), -math.sin(pi)*math.sin(lamb), math.cos(pi)], \n",
    "                         [math.cos(pi)*math.cos(lamb), math.cos(pi)*math.sin(lamb), math.sin(pi)]])\n",
    "    \n",
    "    Matrix = np.array([[x-xr], [y-yr], [z-zr]])\n",
    "    enu = np.matmul(RMatrix, Matrix)\n",
    "    return enu.flatten()"
   ]
  },
  {
   "cell_type": "code",
   "execution_count": 26,
   "id": "7f92941f",
   "metadata": {},
   "outputs": [
    {
     "data": {
      "text/html": [
       "<div>\n",
       "<style scoped>\n",
       "    .dataframe tbody tr th:only-of-type {\n",
       "        vertical-align: middle;\n",
       "    }\n",
       "\n",
       "    .dataframe tbody tr th {\n",
       "        vertical-align: top;\n",
       "    }\n",
       "\n",
       "    .dataframe thead th {\n",
       "        text-align: right;\n",
       "    }\n",
       "</style>\n",
       "<table border=\"1\" class=\"dataframe\">\n",
       "  <thead>\n",
       "    <tr style=\"text-align: right;\">\n",
       "      <th></th>\n",
       "      <th>x-ecef(m)</th>\n",
       "      <th>y-ecef(m)</th>\n",
       "      <th>z-ecef(m)</th>\n",
       "    </tr>\n",
       "  </thead>\n",
       "  <tbody>\n",
       "    <tr>\n",
       "      <th>0</th>\n",
       "      <td>-3287391.334</td>\n",
       "      <td>3978484.594</td>\n",
       "      <td>3735219.075</td>\n",
       "    </tr>\n",
       "    <tr>\n",
       "      <th>1</th>\n",
       "      <td>-3287391.396</td>\n",
       "      <td>3978484.645</td>\n",
       "      <td>3735219.128</td>\n",
       "    </tr>\n",
       "    <tr>\n",
       "      <th>2</th>\n",
       "      <td>-3287391.388</td>\n",
       "      <td>3978484.621</td>\n",
       "      <td>3735219.134</td>\n",
       "    </tr>\n",
       "    <tr>\n",
       "      <th>3</th>\n",
       "      <td>-3287391.387</td>\n",
       "      <td>3978484.619</td>\n",
       "      <td>3735219.100</td>\n",
       "    </tr>\n",
       "    <tr>\n",
       "      <th>4</th>\n",
       "      <td>-3287391.383</td>\n",
       "      <td>3978484.622</td>\n",
       "      <td>3735219.122</td>\n",
       "    </tr>\n",
       "  </tbody>\n",
       "</table>\n",
       "</div>"
      ],
      "text/plain": [
       "     x-ecef(m)    y-ecef(m)    z-ecef(m)\n",
       "0 -3287391.334  3978484.594  3735219.075\n",
       "1 -3287391.396  3978484.645  3735219.128\n",
       "2 -3287391.388  3978484.621  3735219.134\n",
       "3 -3287391.387  3978484.619  3735219.100\n",
       "4 -3287391.383  3978484.622  3735219.122"
      ]
     },
     "execution_count": 26,
     "metadata": {},
     "output_type": "execute_result"
    }
   ],
   "source": [
    "df = pd.read_csv(\"C:\\\\Users\\\\juyeo\\\\Desktop\\\\GNSS_DATA\\\\_ECEF\\\\HOMI_.csv\")\n",
    "df.head()"
   ]
  },
  {
   "cell_type": "code",
   "execution_count": 27,
   "id": "eefa270e",
   "metadata": {},
   "outputs": [
    {
     "name": "stdout",
     "output_type": "stream",
     "text": [
      "[36.07804508, 129.56666192, 42.323]\n",
      "<class 'pandas.core.frame.DataFrame'>\n",
      "RangeIndex: 2824 entries, 0 to 2823\n",
      "Data columns (total 3 columns):\n",
      " #   Column     Non-Null Count  Dtype  \n",
      "---  ------     --------------  -----  \n",
      " 0   x-ecef(m)  2824 non-null   float64\n",
      " 1   y-ecef(m)  2824 non-null   float64\n",
      " 2   z-ecef(m)  2824 non-null   float64\n",
      "dtypes: float64(3)\n",
      "memory usage: 66.3 KB\n"
     ]
    }
   ],
   "source": [
    "df2 = df.astype(float)\n",
    "true_ecef = [-3287391.376, 3978484.605, 3735219.106]\n",
    "true_llh = [36.07804508, 129.56666192, 42.323]\n",
    "X = df['x-ecef(m)']\n",
    "Y = df['y-ecef(m)']\n",
    "Z = df['z-ecef(m)']\n",
    "print(true_llh)\n",
    "err_enu = np.empty((0,3), float)\n",
    "df.info()"
   ]
  },
  {
   "cell_type": "code",
   "execution_count": 28,
   "id": "804cef32",
   "metadata": {},
   "outputs": [],
   "source": [
    "for i in range(2824) :\n",
    "    err = ecef2enu(X[i], Y[i], Z[i], true_llh[0], true_llh[1], true_llh[2], true_ecef[0], true_ecef[1], true_ecef[2])\n",
    "    err_enu = np.append(err_enu, np.array(err), axis=0)\n",
    "df['err_e'] = err_enu[:, 0]\n",
    "df['err_n'] = err_enu[:, 1]\n",
    "df['err_u'] = err_enu[:, 2]"
   ]
  },
  {
   "cell_type": "code",
   "execution_count": 29,
   "id": "2397b8f6",
   "metadata": {},
   "outputs": [
    {
     "name": "stdout",
     "output_type": "stream",
     "text": [
      "<class 'pandas.core.frame.DataFrame'>\n",
      "RangeIndex: 2824 entries, 0 to 2823\n",
      "Data columns (total 6 columns):\n",
      " #   Column     Non-Null Count  Dtype  \n",
      "---  ------     --------------  -----  \n",
      " 0   x-ecef(m)  2824 non-null   float64\n",
      " 1   y-ecef(m)  2824 non-null   float64\n",
      " 2   z-ecef(m)  2824 non-null   float64\n",
      " 3   err_e      2824 non-null   float64\n",
      " 4   err_n      2824 non-null   float64\n",
      " 5   err_u      2824 non-null   float64\n",
      "dtypes: float64(6)\n",
      "memory usage: 132.5 KB\n"
     ]
    }
   ],
   "source": [
    "df.info()"
   ]
  },
  {
   "cell_type": "code",
   "execution_count": 30,
   "id": "a8fd8b9c",
   "metadata": {},
   "outputs": [
    {
     "name": "stdout",
     "output_type": "stream",
     "text": [
      "0.02971354677941083\n",
      "0.021288878632798793\n",
      "0.05679182056201781\n"
     ]
    }
   ],
   "source": [
    "rms_e = np.sqrt(np.mean(df['err_e']**2))\n",
    "rms_n = np.sqrt(np.mean(df['err_n']**2))\n",
    "rms_u = np.sqrt(np.mean(df['err_u']**2))\n",
    "print(rms_e)\n",
    "print(rms_n)\n",
    "print(rms_u)"
   ]
  },
  {
   "cell_type": "code",
   "execution_count": 31,
   "id": "c38d5460",
   "metadata": {},
   "outputs": [],
   "source": [
    "df.to_csv(\"C:\\\\Users\\\\juyeo\\\\Desktop\\\\GNSS_DATA\\\\_ECEF\\\\YODK_ecef_2017_rms.csv\")"
   ]
  }
 ],
 "metadata": {
  "kernelspec": {
   "display_name": "[dig]",
   "language": "python",
   "name": "dig"
  },
  "language_info": {
   "codemirror_mode": {
    "name": "ipython",
    "version": 3
   },
   "file_extension": ".py",
   "mimetype": "text/x-python",
   "name": "python",
   "nbconvert_exporter": "python",
   "pygments_lexer": "ipython3",
   "version": "3.9.7"
  }
 },
 "nbformat": 4,
 "nbformat_minor": 5
}
